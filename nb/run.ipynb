{
 "cells": [
  {
   "cell_type": "code",
   "execution_count": 0,
   "id": "1c6bb9ed",
   "metadata": {},
   "outputs": [],
   "source": [
    "# S/N = 15\n",
    "CONFIG_FILE = '/datascope/subaru/user/dobos/gapipe/work/run21_June2025/pfsGAObject/10092/0000000600000d9d-031-0x7270e4b76e8cc231/pfsGAObject-10092-0000000600000d9d-031-0x7270e4b76e8cc231.yaml'\n",
    "\n",
    "# S/N = 6.5\n",
    "# CONFIG_FILE = '/datascope/subaru/user/dobos/gapipe/work/run21_June2025/pfsGAObject/10092/0000000600000dad-035-0x26ed645d068efdb0/pfsGAObject-10092-0000000600000dad-035-0x26ed645d068efdb0.yaml'\n",
    "\n",
    "# S/N = 8\n",
    "# CONFIG_FILE = '/datascope/subaru/user/dobos/gapipe/work/run21_June2025/pfsGAObject/10092/0000000600000e13-035-0x26ed645d068efdb0/pfsGAObject-10092-0000000600000e13-035-0x26ed645d068efdb0.yaml'\n",
    "\n",
    "# S/N = 22\n",
    "# CONFIG_FILE = '/datascope/subaru/user/dobos/gapipe/work/run21_June2025/pfsGAObject/10092/0000000600000e57-035-0x26ed645d068efdb0/pfsGAObject-10092-0000000600000e57-035-0x26ed645d068efdb0.yaml'\n",
    "\n",
    "# S/N = 3.8\n",
    "# CONFIG_FILE = '/datascope/subaru/user/dobos/gapipe/work/run21_June2025/pfsGAObject/10092/0000000600001084-035-0x26ed645d068efdb0/pfsGAObject-10092-0000000600001084-035-0x26ed645d068efdb0.yaml'\n",
    "\n",
    "# Spurious emission lines\n",
    "# CONFIG_FILE = '/datascope/subaru/user/dobos/gapipe/work/run21_June2025/pfsGAObject/10092/000000060000445f-034-0x0087f12f4eac34f1/pfsGAObject-10092-000000060000445f-034-0x0087f12f4eac34f1.yaml'\n",
    "\n",
    "# Spiky spectra in blue arm\n",
    "# CONFIG_FILE = '/datascope/subaru/user/dobos/gapipe/work/run21_June2025/pfsGAObject/10092/0000000200003dd0-018-0x30183216f317a44f/pfsGAObject-10092-0000000200003dd0-018-0x30183216f317a44f.yaml'\n",
    "\n",
    "DEBUG = False"
   ]
  },
  {
   "cell_type": "code",
   "execution_count": 0,
   "id": "93057081",
   "metadata": {},
   "outputs": [],
   "source": [
    "import os\n",
    "import numpy as np\n",
    "import matplotlib.pyplot as plt"
   ]
  },
  {
   "cell_type": "code",
   "execution_count": 0,
   "id": "edfc3006",
   "metadata": {},
   "outputs": [],
   "source": [
    "if DEBUG:\n",
    "    if 'debug' not in globals():\n",
    "        import debugpy\n",
    "        debugpy.listen(('localhost', int(os.environ.get('GAPIPE_DEBUGPORT', 5678))))\n",
    "        debug = True\n",
    "        print('Started debugpy, waiting for client to attach...')\n",
    "    else:\n",
    "        print('Debugpy is already started, waiting for client to attach...')"
   ]
  },
  {
   "cell_type": "code",
   "execution_count": 0,
   "id": "6181c33f",
   "metadata": {},
   "outputs": [],
   "source": [
    "%load_ext autoreload\n",
    "%autoreload 2"
   ]
  },
  {
   "cell_type": "markdown",
   "id": "b4a64ca9",
   "metadata": {},
   "source": [
    "# Manually run the GA pipeline step by step\n",
    "\n",
    "Here we mimic the steps taken by the script `ga-pipeline` when called from the command-line but execute the pipeline itself step by step in a Jupyter notebook. This is useful for debugging and development."
   ]
  },
  {
   "cell_type": "code",
   "execution_count": 0,
   "id": "446cee89",
   "metadata": {},
   "outputs": [],
   "source": [
    "from pfs.ga.pipeline.scripts.run.runscript import RunScript\n",
    "from pfs.ga.pipeline.gapipe import GAPipeline, GAPipelineTrace\n",
    "from pfs.ga.pipeline.gapipe.config import GAPipelineConfig"
   ]
  },
  {
   "cell_type": "code",
   "execution_count": 0,
   "metadata": {},
   "outputs": [],
   "source": [
    "args = {\n",
    "    'config': CONFIG_FILE,\n",
    "    'trace_plot_level': 2,\n",
    "}\n",
    "script = RunScript()\n",
    "# script._init_from_args_pre_logging(args)\n",
    "script.prepare()\n",
    "script.start_logging()\n",
    "script._init_from_args(args)"
   ]
  },
  {
   "cell_type": "code",
   "execution_count": 0,
   "id": "61b28399",
   "metadata": {},
   "outputs": [],
   "source": [
    "# Load the configuration file\n",
    "config = GAPipelineConfig()\n",
    "config.load(CONFIG_FILE, ignore_collisions=True)\n",
    "script._update_directories(config)"
   ]
  },
  {
   "cell_type": "code",
   "execution_count": 0,
   "id": "de838f6a",
   "metadata": {},
   "outputs": [],
   "source": [
    "# Verify data locations\n",
    "def print_repo_variables(repo):\n",
    "    for key, value in repo.variables.items():\n",
    "        print(f\"  {key}: {repo.get_resolved_variable(key)}\")\n",
    "    print()\n",
    "\n",
    "print(\"Input Repository Variables:\")\n",
    "print_repo_variables(script.input_repo)\n",
    "\n",
    "print(\"Work Repository Variables:\")\n",
    "print_repo_variables(script.work_repo)"
   ]
  },
  {
   "cell_type": "code",
   "execution_count": 0,
   "id": "5c86791a",
   "metadata": {},
   "outputs": [],
   "source": [
    "id = str(config.target.identity)\n",
    "id"
   ]
  },
  {
   "cell_type": "code",
   "execution_count": 0,
   "id": "0c3a9875",
   "metadata": {},
   "outputs": [],
   "source": [
    "# Initialize the pipeline\n",
    "\n",
    "trace = GAPipelineTrace()\n",
    "pipeline = GAPipeline(\n",
    "    script = script,\n",
    "    input_repo = script.input_repo,\n",
    "    work_repo = script.work_repo,\n",
    "    trace = trace,\n",
    ")\n",
    "\n",
    "pipeline.reset()\n",
    "pipeline.update(config=config, id=id)\n",
    "\n",
    "logfile = pipeline.get_product_logfile()\n",
    "logdir = os.path.dirname(logfile)\n",
    "\n",
    "trace.reset()\n",
    "trace.init_from_args(script, config.trace_args)\n",
    "trace.update(figdir=logdir, logdir=logdir, id=id)\n",
    "\n",
    "logdir, trace.plot_level"
   ]
  },
  {
   "cell_type": "code",
   "execution_count": 0,
   "id": "c9a236e8",
   "metadata": {},
   "outputs": [],
   "source": [
    "# Prepare the pipeline for execution\n",
    "steps = pipeline.create_steps()\n",
    "state = pipeline.create_state()\n",
    "context = pipeline.create_context(state=state, trace=trace)"
   ]
  },
  {
   "cell_type": "markdown",
   "id": "feb5b83c",
   "metadata": {},
   "source": [
    "## Validate step\n",
    "\n",
    "Validate the configuration and library versions"
   ]
  },
  {
   "cell_type": "code",
   "execution_count": 0,
   "id": "55e76ad9",
   "metadata": {},
   "outputs": [],
   "source": [
    "from pfs.ga.pipeline.gapipe.steps import ValidateStep\n",
    "\n",
    "step = ValidateStep()\n",
    "step.run(context)"
   ]
  },
  {
   "cell_type": "markdown",
   "id": "5036700a",
   "metadata": {},
   "source": [
    "## Initialize step\n",
    "\n",
    "Create directories, save a copy of the configuration file to the output, initialize objects."
   ]
  },
  {
   "cell_type": "code",
   "execution_count": 0,
   "id": "1cf24564",
   "metadata": {},
   "outputs": [],
   "source": [
    "from pfs.ga.pipeline.gapipe.steps import InitStep\n",
    "\n",
    "step = InitStep()\n",
    "step.run(context)"
   ]
  },
  {
   "cell_type": "markdown",
   "id": "62304ea4",
   "metadata": {},
   "source": [
    "## Load step\n",
    "\n",
    "Load the input data and other resources such as stellar grid, PFS objects, etc."
   ]
  },
  {
   "cell_type": "code",
   "execution_count": 0,
   "id": "3d4905d2",
   "metadata": {},
   "outputs": [],
   "source": [
    "# List of products to be loaded\n",
    "context.pipeline.required_product_types"
   ]
  },
  {
   "cell_type": "code",
   "execution_count": 0,
   "id": "c5ba0b96",
   "metadata": {},
   "outputs": [],
   "source": [
    "from pfs.ga.pipeline.gapipe.steps import LoadStep\n",
    "\n",
    "step = LoadStep()\n",
    "step.run(context)"
   ]
  },
  {
   "cell_type": "code",
   "execution_count": 0,
   "id": "270e6620",
   "metadata": {},
   "outputs": [],
   "source": [
    "step.validate(context)"
   ]
  },
  {
   "cell_type": "code",
   "execution_count": 0,
   "id": "90e27999",
   "metadata": {},
   "outputs": [],
   "source": [
    "# Products in the cache after the load step\n",
    "pipeline.product_cache"
   ]
  },
  {
   "cell_type": "markdown",
   "id": "0aede88a",
   "metadata": {},
   "source": [
    "## TempFit step"
   ]
  },
  {
   "cell_type": "code",
   "execution_count": 0,
   "id": "bf345342",
   "metadata": {},
   "outputs": [],
   "source": [
    "from pfs.ga.pipeline.gapipe.steps import TempFitStep\n",
    "\n",
    "step = TempFitStep()"
   ]
  },
  {
   "cell_type": "code",
   "execution_count": 0,
   "id": "ad02c54c",
   "metadata": {},
   "outputs": [],
   "source": [
    "# Initialize \n",
    "step.init(context)"
   ]
  },
  {
   "cell_type": "code",
   "execution_count": 0,
   "id": "e1468903",
   "metadata": {},
   "outputs": [],
   "source": [
    "# Read the spectra from the PFS data products and load any additional data necessary for template fitting\n",
    "step.load(context)"
   ]
  },
  {
   "cell_type": "code",
   "execution_count": 0,
   "id": "6d6d2457",
   "metadata": {},
   "outputs": [],
   "source": [
    "# This is a no-op, reserved for future use\n",
    "step.preprocess(context)"
   ]
  },
  {
   "cell_type": "code",
   "execution_count": 0,
   "id": "39675da1",
   "metadata": {},
   "outputs": [],
   "source": [
    "# Plot the distribution of S/N\n",
    "f, ax = plt.subplots(1, 1, figsize=(6, 4))\n",
    "\n",
    "for arm, specs in context.state.tempfit_spectra.items():\n",
    "    snr_values = [spec.snr for spec in specs if spec is not None and spec.snr is not None]\n",
    "    hist, bins = np.histogram(snr_values, bins=10)\n",
    "    ax.step(bins[:-1], hist, where='post', label=f'{arm}-band')\n",
    "\n",
    "\n",
    "plt.title(f'S/N Distribution')\n",
    "plt.xlabel('Signal-to-Noise Ratio')\n",
    "plt.ylabel('Number of Spectra')\n",
    "plt.show()"
   ]
  },
  {
   "cell_type": "code",
   "execution_count": 0,
   "id": "6ef49f95",
   "metadata": {},
   "outputs": [],
   "source": [
    "# Plot the input spectra\n",
    "cmap = plt.get_cmap('tab10')\n",
    "colors = {'b': cmap(0), 'm': cmap(1), 'r': cmap(3), 'n': cmap(5)}\n",
    "\n",
    "all_flux = np.concatenate([s.flux \n",
    "                           for ss in context.state.tempfit_spectra.values()\n",
    "                           for s in ss if s is not None])\n",
    "q = np.quantile(all_flux, [0.95])\n",
    "\n",
    "for spectra in zip(*context.state.tempfit_spectra.values()):\n",
    "    f, ax = plt.subplots(figsize=(10, 4))\n",
    "    \n",
    "    snr_wl = []\n",
    "    snr_value = []\n",
    "    for i, arm in enumerate(context.state.tempfit_spectra.keys()):\n",
    "        s = spectra[i]\n",
    "\n",
    "        snr_wl.append(s.wave.mean())\n",
    "        snr_value.append(f'SNR in {arm} : {s.snr:.1f}')\n",
    "\n",
    "        ax.plot(s.wave, s.flux, lw=0.5, color=colors[arm])\n",
    "        ax.plot(s.wave, s.flux_err, lw=0.5, color='k', alpha=0.3)\n",
    "\n",
    "    ax.set_ylim(-0.1 * q, 1.1 * q)\n",
    "    ax.set_ylabel('Flux [ergs/s/cm^2/Angstrom]')\n",
    "    ax.set_xlabel('Wavelength [Angstrom]')\n",
    "\n",
    "    # Y axis to display different tick labes but same wavelength values\n",
    "    ax2 = ax.twiny()\n",
    "    ax2.set_xlim(ax.get_xlim())\n",
    "    ax2.set_xticks(snr_wl)\n",
    "    ax2.set_xticklabels(snr_value)\n",
    "    \n",
    "    ax.grid()\n",
    "\n",
    "    ax.set_title(f'catId: {s.catid:05d} objID: {s.id:016x} visit: {s.observations.visit[0]:06d}\\n'\n",
    "                 f'spectrograph: {s.observations.spectrograph[0]:d}, fiberId: {s.observations.fiberId[0]:d}')\n",
    "\n",
    "    plt.show()\n",
    "    plt.close(f)\n",
    "\n",
    "    break"
   ]
  },
  {
   "cell_type": "code",
   "execution_count": 0,
   "id": "1b548a04",
   "metadata": {},
   "outputs": [],
   "source": [
    "# Run template fitting\n",
    "step.run(context)"
   ]
  },
  {
   "cell_type": "code",
   "execution_count": 0,
   "id": "e0f107ba",
   "metadata": {},
   "outputs": [],
   "source": [
    "step.calculate_error(context)"
   ]
  },
  {
   "cell_type": "code",
   "execution_count": 0,
   "id": "a9a6386f",
   "metadata": {},
   "outputs": [],
   "source": [
    "step.calculate_covariance(context)"
   ]
  },
  {
   "cell_type": "code",
   "execution_count": 0,
   "id": "753562bc",
   "metadata": {},
   "outputs": [],
   "source": [
    "step.finish(context)"
   ]
  },
  {
   "cell_type": "code",
   "execution_count": 0,
   "id": "94485844",
   "metadata": {},
   "outputs": [],
   "source": [
    "f'RV: {context.state.tempfit_results.rv_fit:.3f} +/- {context.state.tempfit_results.rv_err:.3f}'"
   ]
  },
  {
   "cell_type": "code",
   "execution_count": 0,
   "id": "15d29907",
   "metadata": {},
   "outputs": [],
   "source": [
    "for p in context.state.tempfit_results.params_fit:\n",
    "    print(f\"{p}: {context.state.tempfit_results.params_fit[p]:.3f} +/- {context.state.tempfit_results.params_err[p]:.3f}\")"
   ]
  },
  {
   "cell_type": "code",
   "execution_count": 0,
   "id": "d498af4d",
   "metadata": {},
   "outputs": [],
   "source": [
    "def plot_input_spectra(match, normalized=False, xlim=(None, None)):\n",
    "    # Plot the input spectra\n",
    "    cmap = plt.get_cmap('tab10')\n",
    "    colors = {'b': cmap(0), 'm': cmap(1), 'r': cmap(3), 'n': cmap(5)}\n",
    "\n",
    "    spectra, _ = context.state.tempfit.append_corrections_and_templates(\n",
    "        context.state.tempfit_spectra, None,\n",
    "        context.state.tempfit_results.rv_fit,\n",
    "        context.state.tempfit_results.params_fit,\n",
    "        context.state.tempfit_results.a_fit,\n",
    "        match=match)\n",
    "\n",
    "    all_flux = []\n",
    "    for ss in spectra.values():\n",
    "        for s in ss:\n",
    "            if s is not None and s.flux is not None:\n",
    "                m = s.mask_as_bool()\n",
    "                if xlim[0] is not None:\n",
    "                    m &= s.wave >= xlim[0]\n",
    "                if xlim[1] is not None:\n",
    "                    m &= s.wave <= xlim[1]\n",
    "                if normalized:\n",
    "                    all_flux.append(s.flux[m] / s.cont[m])\n",
    "                else:\n",
    "                    all_flux.append(s.flux[m])\n",
    "\n",
    "    all_flux = np.concatenate(all_flux)\n",
    "    q = np.quantile(all_flux, [0.95])\n",
    "\n",
    "    for j, specs in enumerate(zip(*spectra.values())):\n",
    "        f, ax = plt.subplots(figsize=(10, 4))\n",
    "        \n",
    "        snr_wl = []\n",
    "        snr_value = []\n",
    "        for i, arm in enumerate(spectra.keys()):\n",
    "            s = specs[i]\n",
    "            if s is not None:\n",
    "                m = s.mask_as_bool()\n",
    "\n",
    "                snr_wl.append(s.wave.mean())\n",
    "                snr_value.append(f'SNR in {arm} : {s.snr:.1f}')\n",
    "\n",
    "                if normalized:\n",
    "                    ax.plot(s.wave, s.flux / s.cont, lw=0.5, color='lightgray', alpha=0.5)\n",
    "                    ax.plot(s.wave, np.where(m, s.flux / s.cont, np.nan), lw=0.5, color=colors[arm])\n",
    "                    ax.plot(s.wave, s.flux_model / s.cont, '-r')\n",
    "                else:\n",
    "                    ax.plot(s.wave, s.flux, lw=0.5, color='lightgray', alpha=0.5)\n",
    "                    ax.plot(s.wave, np.where(m, s.flux, np.nan), lw=0.5, color=colors[arm])\n",
    "                    ax.plot(s.wave, s.flux_model, '-r')\n",
    "                    # ax.plot(s.wave, s.flux_err, lw=0.5, color='k', alpha=0.3)\n",
    "\n",
    "        if match == 'template':\n",
    "            corrected = ' (corrected)'\n",
    "        else:\n",
    "            corrected = ' (observed)'\n",
    "\n",
    "        ax.set_xlim(*xlim)\n",
    "        ax.set_xlabel('Wavelength [Angstrom]')\n",
    "\n",
    "        if normalized:\n",
    "            ax.set_ylim(0.0, 1.1 * q)\n",
    "            ax.set_ylabel(R'Normalized flux')\n",
    "        else:\n",
    "            ax.set_ylim(-0.1 * q, 1.1 * q)\n",
    "            ax.set_ylabel(R'Flux [ergs s$^{-1}$ cm$^{-2}$ $\\AA^{-1}$]' + corrected)\n",
    "        \n",
    "\n",
    "        # Y axis to display different tick labes but same wavelength values\n",
    "        ax2 = ax.twiny()\n",
    "        ax2.set_xlim(ax.get_xlim())\n",
    "        ax2.set_xticks(snr_wl)\n",
    "        ax2.set_xticklabels(snr_value)\n",
    "        \n",
    "        ax.grid()\n",
    "\n",
    "        if s is not None:\n",
    "            ax.set_title(f'catId: {s.catid:05d} objID: {s.id:016x} visit: {s.observations.visit[0]:06d}\\n'\n",
    "                        f'spectrograph: {s.observations.spectrograph[0]:d}, fiberId: {s.observations.fiberId[0]:d}')\n",
    "\n",
    "        plt.show()\n",
    "        plt.close(f)\n",
    "\n",
    "        break\n",
    "\n"
   ]
  },
  {
   "cell_type": "code",
   "execution_count": 0,
   "id": "372d1944",
   "metadata": {},
   "outputs": [],
   "source": [
    "plot_input_spectra(match='spectrum')"
   ]
  },
  {
   "cell_type": "code",
   "execution_count": 0,
   "id": "b71249bf",
   "metadata": {},
   "outputs": [],
   "source": [
    "plot_input_spectra(match='template')"
   ]
  },
  {
   "cell_type": "code",
   "execution_count": 0,
   "id": "17411591",
   "metadata": {},
   "outputs": [],
   "source": [
    "plot_input_spectra(match='template', normalized=True)"
   ]
  },
  {
   "cell_type": "code",
   "execution_count": 0,
   "id": "0632e46e",
   "metadata": {},
   "outputs": [],
   "source": [
    "plot_input_spectra(match='spectrum', normalized=True, xlim=(4950, 5150))"
   ]
  },
  {
   "cell_type": "code",
   "execution_count": 0,
   "id": "7dfe0ffe",
   "metadata": {},
   "outputs": [],
   "source": [
    "plot_input_spectra(match='template', normalized=True, xlim=(5200, 5600))"
   ]
  },
  {
   "cell_type": "code",
   "execution_count": 0,
   "id": "0e686926",
   "metadata": {},
   "outputs": [],
   "source": [
    "# Plot the flux correction\n",
    "\n",
    "# Plot the input spectra\n",
    "cmap = plt.get_cmap('tab10')\n",
    "colors = {'b': cmap(0), 'm': cmap(1), 'r': cmap(3), 'n': cmap(5)}\n",
    "\n",
    "spectra, _ = context.state.tempfit.append_corrections_and_templates(\n",
    "        context.state.tempfit_spectra, None,\n",
    "        context.state.tempfit_results.rv_fit,\n",
    "        context.state.tempfit_results.params_fit,\n",
    "        context.state.tempfit_results.a_fit,\n",
    "        match='template')\n",
    "\n",
    "f, ax = plt.subplots(figsize=(10, 4))\n",
    "\n",
    "for arm in spectra:\n",
    "    s = spectra[arm][0]\n",
    "    ax.plot(s.wave, s.flux_corr, '-', c=colors[arm])\n",
    "\n",
    "ax.axhline(1.0, ls='--', c='k', lw=0.5)\n",
    "\n",
    "ax.set_ylim(0.3, 2.0)\n",
    "ax.set_xlabel('wavelength [A]')\n",
    "ax.set_ylabel('flux correction')\n",
    "\n",
    "ax.set_title(f'catId: {s.catid:05d} objID: {s.id:016x} visit: {s.observations.visit[0]:06d}\\n'\n",
    "             f'spectrograph: {s.observations.spectrograph[0]:d}, fiberId: {s.observations.fiberId[0]:d}')"
   ]
  },
  {
   "cell_type": "code",
   "execution_count": 0,
   "id": "e01ba335",
   "metadata": {},
   "outputs": [],
   "source": [
    "# Clean up any temporary stuff\n",
    "step.cleanup(context)"
   ]
  },
  {
   "cell_type": "markdown",
   "id": "f9c80b1d",
   "metadata": {},
   "source": [
    "## Coadd step"
   ]
  },
  {
   "cell_type": "code",
   "execution_count": 0,
   "id": "eecba29c",
   "metadata": {},
   "outputs": [],
   "source": [
    "from pfs.ga.pipeline.gapipe.steps import CoaddStep\n",
    "\n",
    "step = CoaddStep()"
   ]
  },
  {
   "cell_type": "code",
   "execution_count": 0,
   "id": "91b6d87e",
   "metadata": {},
   "outputs": [],
   "source": [
    "step.init(context)"
   ]
  },
  {
   "cell_type": "code",
   "execution_count": 0,
   "id": "eeebee93",
   "metadata": {},
   "outputs": [],
   "source": [
    "step.run(context)"
   ]
  },
  {
   "cell_type": "code",
   "execution_count": 0,
   "id": "e024b8e9",
   "metadata": {},
   "outputs": [],
   "source": [
    "step.cleanup(context)"
   ]
  },
  {
   "cell_type": "code",
   "execution_count": 0,
   "id": "56d6050e",
   "metadata": {},
   "outputs": [],
   "source": [
    "def plot_coadd(match='spectrum', normalized=False, xlim=(None, None)):\n",
    "    # Plot the coadded spectra\n",
    "    cmap = plt.get_cmap('tab10')\n",
    "    colors = {'b': cmap(0), 'm': cmap(1), 'r': cmap(3), 'n': cmap(5)}\n",
    "\n",
    "    spectra = context.state.coadd_results.coadd_spectra\n",
    "\n",
    "    all_flux = []\n",
    "    for ss in spectra.values():\n",
    "        for s in ss:\n",
    "            if s is not None:\n",
    "                m = s.mask_as_bool()\n",
    "                if xlim[0] is not None:\n",
    "                    m &= s.wave >= xlim[0]\n",
    "                if xlim[1] is not None:\n",
    "                    m &= s.wave <= xlim[1]\n",
    "\n",
    "                if normalized:\n",
    "                    all_flux.append(s.flux[m] / s.cont[m])\n",
    "                else:\n",
    "                    all_flux.append(s.flux[m])\n",
    "\n",
    "    all_flux = np.concatenate(all_flux)\n",
    "    q = np.quantile(all_flux, [0.95])\n",
    "\n",
    "    for j, specs in enumerate(zip(*spectra.values())):\n",
    "        f, ax = plt.subplots(figsize=(10, 6))\n",
    "        \n",
    "        snr_wl = []\n",
    "        snr_value = []\n",
    "        for i, arm in enumerate(spectra.keys()):\n",
    "            s = specs[i]\n",
    "\n",
    "            snr_wl.append(s.wave.mean())\n",
    "            snr_value.append(f'SNR in {arm} : {s.snr:.1f}')\n",
    "\n",
    "            m = s.mask_as_bool()\n",
    "\n",
    "            if normalized:\n",
    "                ax.plot(s.wave, s.flux / s.cont, lw=0.5, color='lightgray')\n",
    "                ax.plot(s.wave, np.where(m, s.flux / s.cont, np.nan), lw=0.5, color=colors[arm])\n",
    "                ax.plot(s.wave, s.flux_model / s.cont, '-r')\n",
    "                ax.plot(s.wave, s.flux_err / s.cont, lw=0.5, color='k', alpha=0.3)\n",
    "            else:\n",
    "                ax.plot(s.wave, s.flux, lw=0.5, color='lightgray')\n",
    "                ax.plot(s.wave, np.where(m, s.flux, np.nan), lw=0.5, color=colors[arm])\n",
    "                ax.plot(s.wave, s.flux_model, '-r')\n",
    "                ax.plot(s.wave, s.flux_err, lw=0.5, color='k', alpha=0.3)\n",
    "\n",
    "        if match == 'template':\n",
    "            corrected = ' (corrected)'\n",
    "        else:\n",
    "            corrected = ' (observed)'\n",
    "\n",
    "        ax.set_xlim(xlim)\n",
    "        ax.set_xlabel('Wavelength [Angstrom]')\n",
    "\n",
    "        if normalized:\n",
    "            ax.set_ylim(0.0, 1.1 * q)\n",
    "            ax.set_ylabel(R'Normalized flux')\n",
    "        else:\n",
    "            ax.set_ylim(-0.1 * q, 1.1 * q)\n",
    "            ax.set_ylabel(R'Flux [ergs s$^{-1}$ cm$^{-2}$ $\\AA^{-1}$]' + corrected)\n",
    "        \n",
    "\n",
    "        # Y axis to display different tick labes but same wavelength values\n",
    "        ax2 = ax.twiny()\n",
    "        ax2.set_xlim(ax.get_xlim())\n",
    "        ax2.set_xticks(snr_wl)\n",
    "        ax2.set_xticklabels(snr_value)\n",
    "        \n",
    "        ax.grid()\n",
    "\n",
    "        ax.set_title(f'catId: {s.catid:05d} objID: {s.id:016x} nvisit: {len(s.observations.visit)}\\n'\n",
    "                    f'spectrograph: {s.observations.spectrograph[0]:d}, fiberId: {s.observations.fiberId[0]:d}\\n'\n",
    "                    f'RV = {context.state.tempfit_results.rv_fit:.1f} +/- {context.state.tempfit_results.rv_err:.1f} km/s '\n",
    "                    f'[M/H] = {context.state.tempfit_results.params_fit[\"M_H\"]:.1f} $\\\\pm$ {context.state.tempfit_results.params_err[\"M_H\"]:.1f} dex     '\n",
    "                    f'$T_\\\\mathrm{{eff}}$ = {context.state.tempfit_results.params_fit[\"T_eff\"]:.0f} $\\\\pm$ {context.state.tempfit_results.params_err[\"T_eff\"]:.0f} K     '\n",
    "                    f'$\\\\log g$ = {context.state.tempfit_results.params_fit[\"log_g\"]:.1f} $\\\\pm$ {context.state.tempfit_results.params_err[\"log_g\"]:.1f}')\n",
    "\n",
    "        f.tight_layout()\n",
    "\n",
    "        plt.show()\n",
    "        plt.close(f)"
   ]
  },
  {
   "cell_type": "code",
   "execution_count": 0,
   "id": "b4ae2649",
   "metadata": {},
   "outputs": [],
   "source": [
    "plot_coadd(match='spectrum')"
   ]
  },
  {
   "cell_type": "code",
   "execution_count": 0,
   "id": "b4ae2649",
   "metadata": {},
   "outputs": [],
   "source": [
    "plot_coadd(match='spectrum', normalized=True, xlim=(3850, 4000)) # Ca HK"
   ]
  },
  {
   "cell_type": "code",
   "execution_count": 0,
   "id": "c100ad49",
   "metadata": {},
   "outputs": [],
   "source": [
    "plot_coadd(match='spectrum', normalized=True, xlim=(8450, 8700)) # Ca II triplet region"
   ]
  },
  {
   "cell_type": "code",
   "execution_count": 0,
   "id": "90ee4616",
   "metadata": {},
   "outputs": [],
   "source": [
    "plot_coadd(match='template', normalized=True, xlim=(8450, 8700)) # Ca II triplet region"
   ]
  },
  {
   "cell_type": "markdown",
   "id": "8d6750e0",
   "metadata": {},
   "source": [
    "## ChemFit step"
   ]
  },
  {
   "cell_type": "code",
   "execution_count": 0,
   "id": "54fff6cd",
   "metadata": {},
   "outputs": [],
   "source": []
  },
  {
   "cell_type": "markdown",
   "id": "e2ff2f27",
   "metadata": {},
   "source": [
    "## Save step\n",
    "\n",
    "This saves the results to a FITS file."
   ]
  },
  {
   "cell_type": "code",
   "execution_count": 0,
   "id": "1dea144b",
   "metadata": {},
   "outputs": [],
   "source": [
    "from pfs.ga.pipeline.gapipe.steps import SaveStep\n",
    "step = SaveStep()"
   ]
  },
  {
   "cell_type": "code",
   "execution_count": 0,
   "id": "0dd7f8f1",
   "metadata": {},
   "outputs": [],
   "source": [
    "# step.run(context)"
   ]
  },
  {
   "cell_type": "markdown",
   "id": "38af26f0",
   "metadata": {},
   "source": [
    "## Cleanup step"
   ]
  },
  {
   "cell_type": "code",
   "execution_count": 0,
   "id": "df788d37",
   "metadata": {},
   "outputs": [],
   "source": [
    "from pfs.ga.pipeline.gapipe.steps import CleanupStep\n",
    "step = CleanupStep()"
   ]
  },
  {
   "cell_type": "code",
   "execution_count": 0,
   "id": "c48c413e",
   "metadata": {},
   "outputs": [],
   "source": [
    "step.run(context)"
   ]
  },
  {
   "cell_type": "code",
   "execution_count": 0,
   "id": "acce9e5c",
   "metadata": {},
   "outputs": [],
   "source": []
  },
  {
   "cell_type": "code",
   "execution_count": 0,
   "id": "71da2f99",
   "metadata": {},
   "outputs": [],
   "source": []
  }
 ],
 "metadata": {
  "kernelspec": {
   "display_name": "lsst-scipipe-10.0.0",
   "language": "python",
   "name": "python3"
  },
  "language_info": {
   "codemirror_mode": {
    "name": "ipython",
    "version": 3
   },
   "file_extension": ".py",
   "mimetype": "text/x-python",
   "name": "python",
   "nbconvert_exporter": "python",
   "pygments_lexer": "ipython3",
   "version": "3.12.11"
  }
 },
 "nbformat": 4,
 "nbformat_minor": 5
}