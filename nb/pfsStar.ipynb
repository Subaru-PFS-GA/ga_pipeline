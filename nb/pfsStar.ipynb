{
 "cells": [
  {
   "cell_type": "code",
   "execution_count": 0,
   "id": "fb0960c7",
   "metadata": {},
   "outputs": [],
   "source": [
    "CATID = '10092'\n",
    "OBJID = '0000000600007ad3-027-0x6f3db9aed6b9deeb'\n",
    "FITS_PATH = f'/datascope/subaru/user/dobos/gapipe/out/run21_June2025/pfsStar/{CATID}/{OBJID}/pfsStar-{CATID}-{OBJID}.fits'"
   ]
  },
  {
   "cell_type": "code",
   "execution_count": 0,
   "id": "66c54215",
   "metadata": {},
   "outputs": [],
   "source": [
    "import numpy as np\n",
    "import matplotlib.pyplot as plt"
   ]
  },
  {
   "cell_type": "code",
   "execution_count": 0,
   "id": "6e22732b",
   "metadata": {},
   "outputs": [],
   "source": [
    "from pfs.datamodel import PfsStar"
   ]
  },
  {
   "cell_type": "code",
   "execution_count": 0,
   "id": "4fc41a7c",
   "metadata": {},
   "outputs": [],
   "source": [
    "FITS_PATH"
   ]
  },
  {
   "cell_type": "code",
   "execution_count": 0,
   "id": "53e08214",
   "metadata": {},
   "outputs": [],
   "source": [
    "star = PfsStar.readFits(FITS_PATH)"
   ]
  },
  {
   "cell_type": "code",
   "execution_count": 0,
   "id": "d8dbb747",
   "metadata": {},
   "outputs": [],
   "source": [
    "star.__dict__.keys()"
   ]
  },
  {
   "cell_type": "code",
   "execution_count": 0,
   "id": "ac2c1568",
   "metadata": {},
   "outputs": [],
   "source": [
    "star.target"
   ]
  },
  {
   "cell_type": "code",
   "execution_count": 0,
   "id": "490be15b",
   "metadata": {},
   "outputs": [],
   "source": [
    "star.observations"
   ]
  },
  {
   "cell_type": "code",
   "execution_count": 0,
   "id": "678f3ac8",
   "metadata": {},
   "outputs": [],
   "source": [
    "star.measurementFlags.columns"
   ]
  },
  {
   "cell_type": "code",
   "execution_count": 0,
   "id": "40e71702",
   "metadata": {},
   "outputs": [],
   "source": [
    "star.wavelength.shape, star.flux.shape, star.mask.shape, star.sky.shape, star.covar.shape, star.covar2.shape"
   ]
  },
  {
   "cell_type": "code",
   "execution_count": 0,
   "id": "30347b2e",
   "metadata": {},
   "outputs": [],
   "source": [
    "star.flags"
   ]
  },
  {
   "cell_type": "code",
   "execution_count": 0,
   "id": "3130b622",
   "metadata": {},
   "outputs": [],
   "source": [
    "star.metadata"
   ]
  },
  {
   "cell_type": "code",
   "execution_count": 0,
   "id": "6ec3116a",
   "metadata": {},
   "outputs": [],
   "source": [
    "# Plot the merged spectrum from the array data\n",
    "\n",
    "m = star.mask == 0\n",
    "q = np.quantile(star.flux[m], [0.95])\n",
    "\n",
    "plt.plot(star.wavelength, star.flux)\n",
    "plt.plot(star.wavelength, np.sqrt(star.covar[1]))\n",
    "\n",
    "plt.ylim(-0.1 * q, 1.1 * q)"
   ]
  },
  {
   "cell_type": "code",
   "execution_count": 0,
   "id": "63d8fc26",
   "metadata": {},
   "outputs": [],
   "source": [
    "# Plot the merged spectrum from the flux table data\n",
    "\n",
    "m = star.fluxTable.mask == 0\n",
    "q = np.quantile(star.fluxTable.flux[m], [0.95])\n",
    "\n",
    "plt.plot(star.fluxTable.wavelength, star.fluxTable.flux)\n",
    "plt.plot(star.fluxTable.wavelength, star.fluxTable.error)\n",
    "plt.plot(star.fluxTable.wavelength, star.fluxTable.model)\n",
    "plt.plot(star.fluxTable.wavelength, star.fluxTable.cont)\n",
    "\n",
    "plt.ylim(-0.1 * q, 1.1 * q)"
   ]
  },
  {
   "cell_type": "code",
   "execution_count": 0,
   "id": "f651eadc",
   "metadata": {},
   "outputs": [],
   "source": [
    "# Plot the merged spectrum from the flux table data\n",
    "\n",
    "m = star.fluxTable.mask == 0\n",
    "q = np.quantile(star.fluxTable.flux[m] / star.fluxTable.cont[m], [0.95])\n",
    "\n",
    "plt.plot(star.fluxTable.wavelength, star.fluxTable.norm_flux)\n",
    "plt.plot(star.fluxTable.wavelength, star.fluxTable.norm_model)\n",
    "plt.plot(star.fluxTable.wavelength, star.fluxTable.norm_error)\n",
    "\n",
    "plt.ylim(0.0, 1.1 * q)"
   ]
  },
  {
   "cell_type": "markdown",
   "id": "2d9ef4dc",
   "metadata": {},
   "source": [
    "## Best fit parameters"
   ]
  },
  {
   "cell_type": "code",
   "execution_count": 0,
   "id": "9cdc5850",
   "metadata": {},
   "outputs": [],
   "source": [
    "for i in range (len(star.stellarParams)):\n",
    "    print(star.stellarParams.param[i], star.stellarParams.value[i], star.stellarParams.valueErr[i])"
   ]
  },
  {
   "cell_type": "code",
   "execution_count": 0,
   "id": "0a58e9f9",
   "metadata": {},
   "outputs": [],
   "source": [
    "star.stellarParams.columns"
   ]
  },
  {
   "cell_type": "code",
   "execution_count": 0,
   "id": "bf0879b1",
   "metadata": {},
   "outputs": [],
   "source": [
    "star.paramsCovar"
   ]
  },
  {
   "cell_type": "code",
   "execution_count": 0,
   "id": "1f6ea52b",
   "metadata": {},
   "outputs": [],
   "source": [
    "# Plot paramsCovar with imshow\n",
    "# Normalize paramsCovar by its diagonal (variance)\n",
    "variance = np.diag(star.paramsCovar)\n",
    "norm_covar = star.paramsCovar / np.sqrt(np.outer(variance, variance))\n",
    "\n",
    "# The parameters are identified by the covarId column in stellarParams\n",
    "star.stellarParams.covarId\n",
    "param_labels = []\n",
    "for i in range(star.paramsCovar.shape[0]):\n",
    "    if i in star.stellarParams.covarId:\n",
    "        idx = np.where(star.stellarParams.covarId == i)[0][0]\n",
    "        param_labels.append(star.stellarParams.param[idx])\n",
    "    else:\n",
    "        param_labels.append(f'param_{i}')\n",
    "\n",
    "plt.imshow(norm_covar, cmap='viridis', interpolation='nearest')\n",
    "plt.colorbar()\n",
    "plt.title('Normalized Parameters Covariance Matrix')\n",
    "plt.xticks(ticks=np.arange(len(param_labels)), labels=param_labels, rotation=90)\n",
    "plt.yticks(ticks=np.arange(len(param_labels)), labels=param_labels)\n",
    "plt.xlabel('Parameter Index')\n",
    "plt.ylabel('Parameter Index')\n",
    "plt.show()"
   ]
  },
  {
   "cell_type": "code",
   "execution_count": 0,
   "id": "fadee359",
   "metadata": {},
   "outputs": [],
   "source": [
    "star.velocityCorrections.columns"
   ]
  },
  {
   "cell_type": "code",
   "execution_count": 0,
   "id": "64bee2ab",
   "metadata": {},
   "outputs": [],
   "source": [
    "star.notes"
   ]
  },
  {
   "cell_type": "code",
   "execution_count": 0,
   "id": "24e9066e",
   "metadata": {},
   "outputs": [],
   "source": []
  }
 ],
 "metadata": {
  "kernelspec": {
   "display_name": "lsst-scipipe-10.0.0",
   "language": "python",
   "name": "python3"
  },
  "language_info": {
   "codemirror_mode": {
    "name": "ipython",
    "version": 3
   },
   "file_extension": ".py",
   "mimetype": "text/x-python",
   "name": "python",
   "nbconvert_exporter": "python",
   "pygments_lexer": "ipython3",
   "version": "3.12.11"
  }
 },
 "nbformat": 4,
 "nbformat_minor": 5
}