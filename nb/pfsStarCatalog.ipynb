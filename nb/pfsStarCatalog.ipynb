{
 "cells": [
  {
   "cell_type": "code",
   "execution_count": 0,
   "id": "0b922d7e",
   "metadata": {},
   "outputs": [],
   "source": [
    "FITS_PATH = '/datascope/subaru/user/dobos/gapipe/out/run23_August2025/pfsStarCatalog/03006/069-0x4417d98782abe357/pfsStarCatalog-03006-069-0x4417d98782abe357.fits'"
   ]
  },
  {
   "cell_type": "code",
   "execution_count": 0,
   "id": "dd460268",
   "metadata": {},
   "outputs": [],
   "source": [
    "import numpy as np\n",
    "import matplotlib.pyplot as plt"
   ]
  },
  {
   "cell_type": "code",
   "execution_count": 0,
   "id": "938f674a",
   "metadata": {},
   "outputs": [],
   "source": [
    "from pfs.datamodel import PfsStarCatalog, TargetType, FiberStatus"
   ]
  },
  {
   "cell_type": "code",
   "execution_count": 0,
   "id": "2c457db2",
   "metadata": {},
   "outputs": [],
   "source": [
    "catalog = PfsStarCatalog.readFits(FITS_PATH)"
   ]
  },
  {
   "cell_type": "code",
   "execution_count": 0,
   "id": "e24ccb44",
   "metadata": {},
   "outputs": [],
   "source": [
    "catalog.catalog.columns"
   ]
  },
  {
   "cell_type": "code",
   "execution_count": 0,
   "id": "221fd1bf",
   "metadata": {},
   "outputs": [],
   "source": [
    "np.sum(catalog.catalog.T_effStatus != '')"
   ]
  },
  {
   "cell_type": "code",
   "execution_count": 0,
   "id": "36f83c60",
   "metadata": {},
   "outputs": [],
   "source": [
    "mask = (catalog.catalog.T_effStatus == '') & (catalog.catalog.log_gStatus == '')\n",
    "\n",
    "plt.plot(catalog.catalog.T_eff[~mask], catalog.catalog.log_g[~mask], '.', ms=1, c='black')\n",
    "plt.plot(catalog.catalog.T_eff[mask], catalog.catalog.log_g[mask], '.', ms=1, c='red')\n",
    "plt.xlabel('T_eff [K]')\n",
    "plt.ylabel('log_g')\n",
    "plt.gca().invert_xaxis()\n",
    "plt.gca().invert_yaxis()"
   ]
  },
  {
   "cell_type": "code",
   "execution_count": 0,
   "id": "7a18f2b8",
   "metadata": {},
   "outputs": [],
   "source": [
    "mask = (catalog.catalog.T_effStatus == '') & (catalog.catalog.log_gStatus == '')\n",
    "\n",
    "plt.plot(catalog.catalog.v_los[~mask], catalog.catalog.log_g[~mask], '.', ms=1, c='black')\n",
    "plt.plot(catalog.catalog.v_los[mask], catalog.catalog.log_g[mask], '.', ms=1, c='red')\n",
    "plt.xlabel('v_los [km/s]')\n",
    "plt.ylabel('log_g')\n",
    "plt.gca().invert_xaxis()\n",
    "plt.gca().invert_yaxis()"
   ]
  },
  {
   "cell_type": "code",
   "execution_count": 0,
   "id": "d999d934",
   "metadata": {},
   "outputs": [],
   "source": [
    "mask = (catalog.catalog.T_effStatus == '') & (catalog.catalog.log_gStatus == '')\n",
    "\n",
    "plt.plot(catalog.catalog.v_los[~mask], catalog.catalog.M_H[~mask], '.', ms=1, c='black')\n",
    "plt.plot(catalog.catalog.v_los[mask], catalog.catalog.M_H[mask], '.', ms=1, c='red')\n",
    "plt.xlabel('v_los [km/s]')\n",
    "plt.ylabel('[M/H]')\n",
    "plt.gca().invert_xaxis()\n",
    "# plt.gca().invert_yaxis()"
   ]
  },
  {
   "cell_type": "code",
   "execution_count": 0,
   "id": "fe7d4886",
   "metadata": {},
   "outputs": [],
   "source": [
    "mask = (catalog.catalog.v_losStatus == '')\n",
    "\n",
    "plt.plot(catalog.catalog.snr_m[~mask], catalog.catalog.v_losErr[~mask], '.', ms=1)\n",
    "plt.plot(catalog.catalog.snr_m[mask], catalog.catalog.v_losErr[mask], '.', ms=1)\n",
    "plt.xlim(0, 100)\n",
    "plt.ylim(0, 50)\n",
    "plt.xlabel('SNR_M')\n",
    "plt.ylabel('v_losErr [km/s]')"
   ]
  },
  {
   "cell_type": "code",
   "execution_count": 0,
   "id": "38684568",
   "metadata": {},
   "outputs": [],
   "source": [
    "# Histogram of v_los error\n",
    "plt.hist(catalog.catalog.v_losErr, bins=50, range=(0, 20))\n",
    "plt.hist(catalog.catalog.v_losErr[mask], bins=50, range=(0, 20))\n",
    "plt.xlabel('v_losErr [km/s]')\n",
    "plt.ylabel('Number of stars')"
   ]
  },
  {
   "cell_type": "code",
   "execution_count": 0,
   "id": "c1ad0899",
   "metadata": {},
   "outputs": [],
   "source": []
  }
 ],
 "metadata": {
  "kernelspec": {
   "display_name": "lsst-scipipe-10.0.0",
   "language": "python",
   "name": "python3"
  },
  "language_info": {
   "codemirror_mode": {
    "name": "ipython",
    "version": 3
   },
   "file_extension": ".py",
   "mimetype": "text/x-python",
   "name": "python",
   "nbconvert_exporter": "python",
   "pygments_lexer": "ipython3",
   "version": "3.12.11"
  }
 },
 "nbformat": 4,
 "nbformat_minor": 5
}