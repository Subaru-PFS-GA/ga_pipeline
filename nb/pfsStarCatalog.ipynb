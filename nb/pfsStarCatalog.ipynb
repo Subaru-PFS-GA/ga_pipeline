{
 "cells": [
  {
   "cell_type": "code",
   "execution_count": 0,
   "id": "0b922d7e",
   "metadata": {},
   "outputs": [],
   "source": [
    "FITS_PATH = '/datascope/subaru/user/dobos/gapipe/out/run21_June2025/pfsStarCatalog/10092/073-0x6fd72eb843599f0f/pfsStarCatalog-10092-073-0x6fd72eb843599f0f.fits'"
   ]
  },
  {
   "cell_type": "code",
   "execution_count": 0,
   "id": "dd460268",
   "metadata": {},
   "outputs": [],
   "source": [
    "import numpy as np\n",
    "import matplotlib.pyplot as plt"
   ]
  },
  {
   "cell_type": "code",
   "execution_count": 0,
   "id": "938f674a",
   "metadata": {},
   "outputs": [],
   "source": [
    "from pfs.datamodel import PfsStarCatalog"
   ]
  },
  {
   "cell_type": "code",
   "execution_count": 0,
   "id": "2c457db2",
   "metadata": {},
   "outputs": [],
   "source": [
    "catalog = PfsStarCatalog.readFits(FITS_PATH)"
   ]
  },
  {
   "cell_type": "code",
   "execution_count": 0,
   "id": "36f83c60",
   "metadata": {},
   "outputs": [],
   "source": [
    "plt.plot(catalog.catalog.T_eff, catalog.catalog.log_g, '.')\n",
    "plt.xlabel('T_eff [K]')\n",
    "plt.ylabel('log_g [dex]')\n",
    "plt.gca().invert_xaxis()\n",
    "plt.gca().invert_yaxis()"
   ]
  },
  {
   "cell_type": "code",
   "execution_count": 0,
   "id": "fe7d4886",
   "metadata": {},
   "outputs": [],
   "source": [
    "plt.plot(catalog.catalog.snr_m, catalog.catalog.v_losErr, '.')\n",
    "plt.xlim(0, 100)\n",
    "plt.xlabel('SNR_M')\n",
    "plt.ylabel('v_losErr [km/s]')"
   ]
  },
  {
   "cell_type": "code",
   "execution_count": 0,
   "id": "38684568",
   "metadata": {},
   "outputs": [],
   "source": [
    "# Histogram of v_los error\n",
    "plt.hist(catalog.catalog.v_losErr, bins=50, range=(0, 20))\n",
    "plt.xlabel('v_losErr [km/s]')\n",
    "plt.ylabel('Number of stars')"
   ]
  },
  {
   "cell_type": "code",
   "execution_count": 0,
   "id": "c1ad0899",
   "metadata": {},
   "outputs": [],
   "source": []
  }
 ],
 "metadata": {
  "kernelspec": {
   "display_name": "lsst-scipipe-10.0.0",
   "language": "python",
   "name": "python3"
  },
  "language_info": {
   "codemirror_mode": {
    "name": "ipython",
    "version": 3
   },
   "file_extension": ".py",
   "mimetype": "text/x-python",
   "name": "python",
   "nbconvert_exporter": "python",
   "pygments_lexer": "ipython3",
   "version": "3.12.11"
  }
 },
 "nbformat": 4,
 "nbformat_minor": 5
}