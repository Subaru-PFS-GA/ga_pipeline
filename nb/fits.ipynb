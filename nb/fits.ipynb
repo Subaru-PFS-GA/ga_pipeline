{
 "cells": [
  {
   "cell_type": "code",
   "execution_count": 0,
   "id": "fb0960c7",
   "metadata": {},
   "outputs": [],
   "source": [
    "FITS_PATH = '/datascope/subaru/user/dobos/gapipe/out/run21_June2025/pfsGAObject/10092/0000000600000e57-035-0x26ed645d068efdb0/pfsGAObject-10092-0000000600000e57-035-0x26ed645d068efdb0.fits'"
   ]
  },
  {
   "cell_type": "code",
   "execution_count": 0,
   "id": "66c54215",
   "metadata": {},
   "outputs": [],
   "source": [
    "import numpy as np\n",
    "import matplotlib.pyplot as plt"
   ]
  },
  {
   "cell_type": "code",
   "execution_count": 0,
   "id": "6e22732b",
   "metadata": {},
   "outputs": [],
   "source": [
    "from pfs.datamodel import PfsGAObject"
   ]
  },
  {
   "cell_type": "code",
   "execution_count": 0,
   "id": "53e08214",
   "metadata": {},
   "outputs": [],
   "source": [
    "star = PfsGAObject.readFits(FITS_PATH)"
   ]
  },
  {
   "cell_type": "code",
   "execution_count": 0,
   "id": "d8dbb747",
   "metadata": {},
   "outputs": [],
   "source": [
    "star.__dict__.keys()"
   ]
  },
  {
   "cell_type": "code",
   "execution_count": 0,
   "id": "6ec3116a",
   "metadata": {},
   "outputs": [],
   "source": [
    "# Plot the merged spectrum from the array data\n",
    "\n",
    "m = star.mask == 0\n",
    "q = np.quantile(star.flux[m], [0.95])\n",
    "\n",
    "plt.plot(star.wavelength, star.flux)\n",
    "plt.plot(star.wavelength, np.sqrt(star.covar[1]))\n",
    "\n",
    "plt.ylim(-0.1 * q, 1.1 * q)"
   ]
  },
  {
   "cell_type": "code",
   "execution_count": 0,
   "id": "63d8fc26",
   "metadata": {},
   "outputs": [],
   "source": [
    "# Plot the merged spectrum from the flux table data\n",
    "\n",
    "m = star.fluxTable.mask == 0\n",
    "q = np.quantile(star.fluxTable.flux[m], [0.95])\n",
    "\n",
    "plt.plot(star.fluxTable.wavelength, star.fluxTable.flux)\n",
    "plt.plot(star.fluxTable.wavelength, star.fluxTable.error)\n",
    "plt.plot(star.fluxTable.wavelength, star.fluxTable.model)\n",
    "\n",
    "plt.ylim(-0.1 * q, 1.1 * q)"
   ]
  },
  {
   "cell_type": "code",
   "execution_count": 0,
   "id": "0a58e9f9",
   "metadata": {},
   "outputs": [],
   "source": [
    "star.stellarParams.columns"
   ]
  }
 ],
 "metadata": {
  "kernelspec": {
   "display_name": "Python 3",
   "language": "python",
   "name": "python3"
  },
  "language_info": {
   "codemirror_mode": {
    "name": "ipython",
    "version": 3
   },
   "file_extension": ".py",
   "mimetype": "text/x-python",
   "name": "python",
   "nbconvert_exporter": "python",
   "pygments_lexer": "ipython3",
   "version": "3.12.11"
  }
 },
 "nbformat": 4,
 "nbformat_minor": 5
}